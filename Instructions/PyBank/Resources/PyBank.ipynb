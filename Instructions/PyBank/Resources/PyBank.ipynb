{
 "cells": [
  {
   "cell_type": "code",
   "execution_count": null,
   "metadata": {},
   "outputs": [],
   "source": [
    "import os\n",
    "import csv"
   ]
  },
  {
   "cell_type": "code",
   "execution_count": null,
   "metadata": {},
   "outputs": [],
   "source": [
    "pybank_csv = os.path.join(\"..\", \"Resources\", \"budget_data.csv\")"
   ]
  },
  {
   "cell_type": "code",
   "execution_count": null,
   "metadata": {},
   "outputs": [],
   "source": [
    "pybank_csv = os.path.join(\"..\", \"Resources\", \"budget_data.csv\")\n",
    "\n",
    "# Lists to store data\n",
    "date = []\n",
    "profit_losses = []\n",
    "\n",
    "\n",
    "# with open(pybank_csv, newline=\"\", encoding='utf-8') as csvfile:\n",
    "with open(pybank_csv, newline=\"\") as csvfile:\n",
    "    csvreader = csv.reader(csvfile, delimiter=\",\")\n",
    "    for row in csvreader:\n",
    "        # Add title\n",
    "        date.append(row[1])\n",
    "\n",
    "        # Add profit_losses\n",
    "        profit_losses.append(row[2])\n",
    "        \n",
    "        \n",
    "        # Zip lists together\n",
    "pybank_csv = zip(date, profit_losses)\n",
    "\n",
    "# Set variable for output file\n",
    "output_file = os.path.join(\"budget_data.csv\")\n",
    "\n",
    "#  Open the output file\n",
    "with open(output_file, \"w\", newline=\"\") as datafile:\n",
    "    writer = csv.writer(datafile)\n",
    "\n",
    "    # Write the header row\n",
    "    writer.writerow([\"Date\", \"Profit/Losses\"])\n",
    "\n",
    "    # Write in zipped rows\n",
    "    writer.writerows(pybank_csv)\n",
    "\n",
    "\n",
    "        "
   ]
  },
  {
   "cell_type": "code",
   "execution_count": null,
   "metadata": {},
   "outputs": [],
   "source": []
  }
 ],
 "metadata": {
  "kernelspec": {
   "display_name": "PythonData",
   "language": "python",
   "name": "pythondata"
  },
  "language_info": {
   "codemirror_mode": {
    "name": "ipython",
    "version": 3
   },
   "file_extension": ".py",
   "mimetype": "text/x-python",
   "name": "python",
   "nbconvert_exporter": "python",
   "pygments_lexer": "ipython3",
   "version": "3.7.3"
  }
 },
 "nbformat": 4,
 "nbformat_minor": 2
}
